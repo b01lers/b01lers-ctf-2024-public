{
 "cells": [
  {
   "cell_type": "code",
   "execution_count": 1,
   "id": "4060812b-b25b-4723-a604-f7c48e9c87d1",
   "metadata": {},
   "outputs": [],
   "source": [
    "import math\n",
    "from Crypto.Util.number import *\n",
    "import os\n",
    "\n",
    "with open(\"output.txt\",\"rb\") as f:\n",
    "    file = f.readlines()\n",
    "    e = int((file[0])[4:])\n",
    "    n = int((file[1])[4:])\n",
    "    c = int((file[2])[4:])"
   ]
  },
  {
   "cell_type": "code",
   "execution_count": 5,
   "id": "b225ae09-8cd6-4202-8bd1-34e880972b4e",
   "metadata": {},
   "outputs": [
    {
     "name": "stdout",
     "output_type": "stream",
     "text": [
      "b'bctf{Pr1M3_NUM83r5_4r3_C001_bu7_7H3Y_4r3_57r0N6_0N1Y_WH3N_7H3Y_4r3_MU171P113D_3V3N_1F_7H3Y_4r3_b1g}'\n"
     ]
    }
   ],
   "source": [
    "# e = 8190 = 2 · 3^2 · 5 · 7 · 13\n",
    "# factorbd says # n-1 = 2^4 · 3^3 · 202021 · 7625664192...09\n",
    "g = math.gcd(e, n-1) # 18 = 2 * 3^2\n",
    "# e/g = 5 * 7 * 13 and this is coprime with n-1\n",
    "d_prime = pow(e // g, -1, (n-1) // g) # (e/g) d' = ((n-1)/g) k + 1\n",
    "c_prime = pow(c, d_prime, n) # m' = c^d' = (m^e)^d' = m^g mod n (b/c n is prime)\n",
    "assert pow(c_prime, e // g, n) == c # c_prime = m^18 mod n\n",
    "c_prime_2 = pow(c_prime, 8 * 3, n) # (m')^24 = (m^18)^24 = m^432\n",
    "e_prime_2 = g * (8 * 3) # 432\n",
    "\n",
    "# Find a subgroup E with order 432 in F_n^*\n",
    "gen_ind = 1\n",
    "gen_E = 1 # generator of E\n",
    "\n",
    "# 432 = 2^4 * 3^3\n",
    "# Exclude the elements whose 2^4, 3^3, 2^3 * 3^3, or 2^4 * 3^2 power is 1\n",
    "# Their factors form the factors of 432. \n",
    "while gen_E == 1 or pow(gen_E, 16, n) == 1 or pow(gen_E, 27, n) == 1 or pow(gen_E, 144, n) == 1 or pow(gen_E, 216, n) == 1:\n",
    "\tgen_ind += 1\n",
    "\tgen_E = pow(gen_ind, (n-1) // e_prime_2, n)\n",
    "\n",
    "# Testing to make sure g_E is order 432\n",
    "for i in range(e_prime_2 + 1):\n",
    "\tif i != 0 and i != e_prime_2:\n",
    "\t\tassert pow(gen_E, i, n) != 1\n",
    "\n",
    "d_prime_2 = pow(e_prime_2, -1, (n-1)//e_prime_2)\n",
    "m_candidate = pow(c_prime_2, d_prime_2, n)\n",
    "assert pow(m_candidate, e_prime_2, n) == c_prime_2\n",
    "\n",
    "for i in range(0, e_prime_2):\n",
    "\tm = (m_candidate * pow(gen_E, i, n)) % n\n",
    "\tif pow(m, e, n) == c and b'bctf{' in long_to_bytes(m):\n",
    "\t\tprint(long_to_bytes(m))\n",
    "\t\t# b'bctf{Pr1M3_NUM83r5_4r3_C001_bu7_7H3Y_4r3_57r0N6_0N1Y_WH3N_7H3Y_4r3_MU171P113D_3V3N_1F_7H3Y_4r3_b1g}'\n",
    "\n"
   ]
  },
  {
   "cell_type": "code",
   "execution_count": 9,
   "id": "3a2e2c7f-dbdb-47cf-992d-4c6f7ebc9a4e",
   "metadata": {},
   "outputs": [
    {
     "name": "stdout",
     "output_type": "stream",
     "text": [
      "b'bctf{Pr1M3_NUM83r5_4r3_C001_bu7_7H3Y_4r3_57r0N6_0N1Y_WH3N_7H3Y_4r3_MU171P113D_3V3N_1F_7H3Y_4r3_b1g}'\n"
     ]
    }
   ],
   "source": [
    "g = math.gcd(e, n-1)\n",
    "# math.gcd(e//g, n-1)\n",
    "d1 = pow(e//g, -1, n-1)\n",
    "m1 = pow(c, d1, n)\n",
    "\n",
    "assert pow(m1, e//g, n) == c # True\n",
    "assert math.gcd(24 * g, (n-1)//(24 * g)) == 1 # True\n",
    "m2 = pow(m1, 24, n)\n",
    "d2 = pow(24 * g, -1, (n-1)//(24 * g))\n",
    "m_candidate = pow(m2, d2, n)\n",
    "assert pow(m_candidate, 24 * g, n) == m2 # True\n",
    "\n",
    "# Find a subgroup E with order 432 in F_n^*\n",
    "gen_ind = 1\n",
    "gen_E = 1 # generator of E\n",
    "\n",
    "# 432 = 2^4 * 3^3\n",
    "# Exclude the elements whose 2^4, 3^3, 2^3 * 3^3, or 2^4 * 3^2 power is 1\n",
    "# Their factors form the factors of 432. \n",
    "while gen_E == 1 or pow(gen_E, 16, n) == 1 or pow(gen_E, 27, n) == 1 \\\n",
    "\tor pow(gen_E, 144, n) == 1 or pow(gen_E, 216, n) == 1:\n",
    "\tgen_ind += 1\n",
    "\tgen_E = pow(gen_ind, (n-1) // (24 * g), n)\n",
    "\n",
    "# Testing to make sure g_E is order 432\n",
    "for i in range(24 * g + 1):\n",
    "\tif i != 0 and i != 24 * g:\n",
    "\t\tassert pow(gen_E, i, n) != 1\n",
    "\n",
    "for i in range(0, 24 * g):\n",
    "\tm = (m_candidate * pow(gen_E, i, n)) % n\n",
    "\tif pow(m, e, n) == c and b'bctf{' in long_to_bytes(m):\n",
    "\t\tprint(long_to_bytes(m))\n",
    "\t\t## b'bctf{Pr1M3_NUM83r5_4r3_C001_bu7_7H3Y_4r3_57r0N6_0N1Y_WH3N_\n",
    "        ##        7H3Y_4r3_MU171P113D_3V3N_1F_7H3Y_4r3_b1g}'"
   ]
  },
  {
   "cell_type": "code",
   "execution_count": 10,
   "id": "0991ea33-be25-445e-ad4b-624944a1f47a",
   "metadata": {},
   "outputs": [
    {
     "ename": "NameError",
     "evalue": "name 'GF' is not defined",
     "output_type": "error",
     "traceback": [
      "\u001b[0;31m---------------------------------------------------------------------------\u001b[0m",
      "\u001b[0;31mNameError\u001b[0m                                 Traceback (most recent call last)",
      "Cell \u001b[0;32mIn[10], line 1\u001b[0m\n\u001b[0;32m----> 1\u001b[0m \u001b[38;5;28;01mfor\u001b[39;00m flag \u001b[38;5;129;01min\u001b[39;00m \u001b[43mGF\u001b[49m(n, proof\u001b[38;5;241m=\u001b[39m\u001b[38;5;28;01mFalse\u001b[39;00m)(c)\u001b[38;5;241m.\u001b[39mnth_root(e, \u001b[38;5;28mall\u001b[39m\u001b[38;5;241m=\u001b[39m\u001b[38;5;28;01mTrue\u001b[39;00m):\n\u001b[1;32m      2\u001b[0m     \u001b[38;5;28;01mtry\u001b[39;00m:\n\u001b[1;32m      3\u001b[0m         \u001b[38;5;28mprint\u001b[39m(long_to_bytes(\u001b[38;5;28mint\u001b[39m(flag))\u001b[38;5;241m.\u001b[39mdecode())\n",
      "\u001b[0;31mNameError\u001b[0m: name 'GF' is not defined"
     ]
    }
   ],
   "source": [
    "for flag in GF(n, proof=False)(c).nth_root(e, all=True):\n",
    "    try:\n",
    "        print(long_to_bytes(int(flag)).decode())\n",
    "    except:\n",
    "        continue"
   ]
  }
 ],
 "metadata": {
  "kernelspec": {
   "display_name": "Python 3 (ipykernel)",
   "language": "python",
   "name": "python3"
  },
  "language_info": {
   "codemirror_mode": {
    "name": "ipython",
    "version": 3
   },
   "file_extension": ".py",
   "mimetype": "text/x-python",
   "name": "python",
   "nbconvert_exporter": "python",
   "pygments_lexer": "ipython3",
   "version": "3.11.6"
  }
 },
 "nbformat": 4,
 "nbformat_minor": 5
}
